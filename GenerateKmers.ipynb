{
 "cells": [
  {
   "cell_type": "code",
   "execution_count": 21,
   "metadata": {},
   "outputs": [],
   "source": [
    "def kmer_generator(k, dnaString) :\n",
    "\n",
    "    kmers = []\n",
    "\n",
    "    for i in range(len(dnaString) - k + 1) :\n",
    "            kmers.append(dnaString[i:i+k])\n",
    "\n",
    "    return kmers\n"
   ]
  },
  {
   "cell_type": "code",
   "execution_count": 22,
   "metadata": {},
   "outputs": [
    {
     "name": "stdout",
     "output_type": "stream",
     "text": [
      "K-mers Generated: \n",
      "['taccac', 'accacc', 'ccacca', 'caccac', 'accacc', 'ccacca', 'caccat', 'accata', 'ccatag']\n"
     ]
    }
   ],
   "source": [
    "dnaString = \"taccaccaccatag\"\n",
    "\n",
    "data = kmer_generator(6, dnaString)\n",
    "\n",
    "print(\"K-mers Generated: \")\n",
    "\n",
    "print(data)"
   ]
  }
 ],
 "metadata": {
  "kernelspec": {
   "display_name": "Python 3.10.6 64-bit",
   "language": "python",
   "name": "python3"
  },
  "language_info": {
   "codemirror_mode": {
    "name": "ipython",
    "version": 3
   },
   "file_extension": ".py",
   "mimetype": "text/x-python",
   "name": "python",
   "nbconvert_exporter": "python",
   "pygments_lexer": "ipython3",
   "version": "3.10.6"
  },
  "orig_nbformat": 4,
  "vscode": {
   "interpreter": {
    "hash": "916dbcbb3f70747c44a77c7bcd40155683ae19c65e1c03b4aa3499c5328201f1"
   }
  }
 },
 "nbformat": 4,
 "nbformat_minor": 2
}
