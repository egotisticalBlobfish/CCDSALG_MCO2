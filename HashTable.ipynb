{
  "metadata": {
    "language_info": {
      "codemirror_mode": {
        "name": "python",
        "version": 3
      },
      "file_extension": ".py",
      "mimetype": "text/x-python",
      "name": "python",
      "nbconvert_exporter": "python",
      "pygments_lexer": "ipython3",
      "version": "3.8"
    },
    "kernelspec": {
      "name": "python",
      "display_name": "Python (Pyodide)",
      "language": "python"
    }
  },
  "nbformat_minor": 4,
  "nbformat": 4,
  "cells": [
    {
      "cell_type": "code",
      "source": "def get_hash(key)\nh=0\nfor char in key:\n    h+=ord(char) /*finds ascii value*/\n    return h%100",
      "metadata": {},
      "execution_count": null,
      "outputs": []
    },
    {
      "cell_type": "code",
      "source": "ord('a')",
      "metadata": {
        "trusted": true
      },
      "execution_count": 1,
      "outputs": [
        {
          "execution_count": 1,
          "output_type": "execute_result",
          "data": {
            "text/plain": "97"
          },
          "metadata": {}
        }
      ]
    },
    {
      "cell_type": "code",
      "source": "class HashTable\n\ndef _init_(self):\n    self.Max=100\n    self.arr=[None for i in range (self.Max)]\n    \ndef get_hash(self,key)\nh=0\nfor char in key :\n    h+=ord(char)\nreturn h % self.MAX\n\ndef _setitem_(self,key,val):\n    h= self.get_hash(key)\n    self.arr[h]=val\n    \ndef _getitem_(self,key)\n    h=self.get_hash(key)\n    return self.arr[h]\n\ndef _delitem_(self,key)\n    h=self.get_hash(key)\n    self.arr[h]=None",
      "metadata": {},
      "execution_count": null,
      "outputs": []
    },
    {
      "cell_type": "code",
      "source": "t= Hashtable()\nt['String']=100",
      "metadata": {
        "trusted": true
      },
      "execution_count": null,
      "outputs": []
    },
    {
      "cell_type": "code",
      "source": "t.arr",
      "metadata": {
        "trusted": true
      },
      "execution_count": null,
      "outputs": []
    }
  ]
}
