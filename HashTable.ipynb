{
  "metadata": {
    "language_info": {
      "codemirror_mode": {
        "name": "python",
        "version": 3
      },
      "file_extension": ".py",
      "mimetype": "text/x-python",
      "name": "python",
      "nbconvert_exporter": "python",
      "pygments_lexer": "ipython3",
      "version": "3.8"
    },
    "kernelspec": {
      "name": "python",
      "display_name": "Python (Pyodide)",
      "language": "python"
    }
  },
  "nbformat_minor": 4,
  "nbformat": 4,
  "cells": [
    {
      "cell_type": "code",
      "source": "def testFlag (self):\n    self.store.set (\"test_flag\",\"value\",2,17)\n    v= self.store.get (\"?test_flag\")\n    ver,hash,flag,modified = v.split('')\n    self.assertEqual(int(ver),2)\n    self.assertEqual(int(flag),17)\n    vh=fnv1a(\"value\")+ len(\"value\")*97\n    self.assertEqual(int(hash),vh);",
      "metadata": {
        "trusted": true
      },
      "execution_count": 3,
      "outputs": []
    },
    {
      "cell_type": "code",
      "source": "P_32 = 0xEDB88320\ninit = 0xffffffff\n_ran = True\ntab32 = []\n\n\ndef mask32(n):\n    return n & 0xffffffff\n\ndef mask8(n):\n    return n & 0x000000ff\n\ndef mask1(n):\n    return n & 0x00000001\ndef init32():\n    for i in range (256):\n        crc=mask32(i)\n        for j in range (8):\n            if (mask1(crc)==1):\n                crc = mask32(mask32(crc>>1)^ P_32)\n                \n            else:\n                crc=mask32(crc>>1)\n        tab32.append(crc)\n        global _ran\n        _ran =False\n        \ndef update32(crc,char):\n    char=mask8(char)\n    t=crc ^char\n    crc=mask32(mask32(crc >> 8)^ tab32[mask8(t)])\n    return crc\n\ndef run(string):\n    if _ran:\n        init32()\n        crc=init\n        for c in string:\n            crc=update32 (crc, ord(c))\n            crc= crc ^ init\n        print(hex(crc)[2:].upper())\n            \n                \n    ",
      "metadata": {
        "trusted": true
      },
      "execution_count": 4,
      "outputs": []
    },
    {
      "cell_type": "code",
      "source": "check0 =\"The CRC32 of this string is 4456AC4B\"\ncheck1=\"123456789\"\n\nrun(check0)",
      "metadata": {
        "trusted": true
      },
      "execution_count": 6,
      "outputs": [
        {
          "name": "stdout",
          "text": "FD0D88EA\n",
          "output_type": "stream"
        }
      ]
    },
    {
      "cell_type": "code",
      "source": "",
      "metadata": {},
      "execution_count": null,
      "outputs": []
    }
  ]
}
