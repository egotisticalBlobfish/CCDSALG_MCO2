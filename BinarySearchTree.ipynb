{
 "cells": [
  {
   "cell_type": "code",
   "execution_count": 26,
   "metadata": {},
   "outputs": [],
   "source": [
    "class newNode:\n",
    "    def __init__(self, value):\n",
    "        self.value = value\n",
    "        self.count = 1\n",
    "        self.left = None\n",
    "        self.right = None\n",
    "\n",
    "    def create(self):\n",
    "        tree = newNode(None)\n",
    "        return tree\n",
    "\n",
    "    def search(self, value):\n",
    "        if self == None:\n",
    "            return False\n",
    "\n",
    "        if self.value == value:\n",
    "            return True\n",
    "\n",
    "        if self.value < value:\n",
    "            if self.left:\n",
    "                return self.left.search(value)\n",
    "            return False\n",
    "\n",
    "        if self.right:\n",
    "            return self.right.search(value)\n",
    "\n",
    "        return False\n",
    "\n",
    "    def insert(self, value):\n",
    "        if self == None:\n",
    "            newTree = newNode(value)\n",
    "            return newTree\n",
    "\n",
    "        if self.value == value:\n",
    "            self.count += 1\n",
    "            return self\n",
    "\n",
    "        if self.value < value:  # type: ignore\n",
    "            if self.left:\n",
    "                self.left.insert(value)\n",
    "                return\n",
    "\n",
    "            self.left = newNode(value)\n",
    "            return\n",
    "\n",
    "        if self.right:\n",
    "            self.right.insert(value)\n",
    "            return\n",
    "\n",
    "        self.right = newNode(value)\n",
    "\n",
    "    # def destroy()\n",
    "\n",
    "    def printer(self):\n",
    "        COUNT = [10]\n",
    "        def print2DUtil(self, space):\n",
    "            # Base case\n",
    "            if (self == None):\n",
    "                return\n",
    "        \n",
    "            # Increase distance between levels\n",
    "            space += COUNT[0]\n",
    "        \n",
    "            # Process right child first\n",
    "            print2DUtil(self.right, space)\n",
    "        \n",
    "            # Print current node after space\n",
    "            # count\n",
    "            print()\n",
    "            for i in range(COUNT[0], space):\n",
    "                print(end=\" \")\n",
    "            print(self.value)\n",
    "        \n",
    "            # Process left child\n",
    "            print2DUtil(self.left, space)\n",
    "\n",
    "        print2DUtil(self, 0)\n",
    "\n",
    "    def inorder_traverse(self):\n",
    "        if self.left:\n",
    "            self.left.inorder_traverse()\n",
    "\n",
    "        print(self.value)\n",
    "\n",
    "        if self.right:\n",
    "            self.right.inorder_traverse()\n"
   ]
  },
  {
   "cell_type": "code",
   "execution_count": 32,
   "metadata": {},
   "outputs": [
    {
     "name": "stdout",
     "output_type": "stream",
     "text": [
      "\n",
      "          1\n",
      "\n",
      "                    2\n",
      "\n",
      "                              3\n",
      "\n",
      "10\n"
     ]
    }
   ],
   "source": [
    "a = newNode(10)\n",
    "a.insert(1)\n",
    "a.insert(2)\n",
    "a.insert(3)\n",
    "\n",
    "\n",
    "a.printer()"
   ]
  }
 ],
 "metadata": {
  "kernelspec": {
   "display_name": "Python 3.10.6 64-bit",
   "language": "python",
   "name": "python3"
  },
  "language_info": {
   "codemirror_mode": {
    "name": "ipython",
    "version": 3
   },
   "file_extension": ".py",
   "mimetype": "text/x-python",
   "name": "python",
   "nbconvert_exporter": "python",
   "pygments_lexer": "ipython3",
   "version": "3.10.6"
  },
  "orig_nbformat": 4,
  "vscode": {
   "interpreter": {
    "hash": "916dbcbb3f70747c44a77c7bcd40155683ae19c65e1c03b4aa3499c5328201f1"
   }
  }
 },
 "nbformat": 4,
 "nbformat_minor": 2
}
